{
 "cells": [
  {
   "cell_type": "code",
   "execution_count": null,
   "id": "52a7721b-7894-427e-b973-f85d6533eae1",
   "metadata": {},
   "outputs": [],
   "source": [
    "# import os\n",
    "# import pyspark\n",
    "\n",
    "# # Set environment variables\n",
    "# os.environ['PYSPARK_PYTHON'] = 'python3.11'\n",
    "# os.environ['PYSPARK_DRIVER_PYTHON'] = 'python3.11'\n",
    "# import os\n",
    "# os.environ[\"PYSPARK_PYTHON\"] = \"python3\""
   ]
  },
  {
   "cell_type": "code",
   "execution_count": null,
   "id": "412e8f87-b2c5-4379-bb51-f059e45f3065",
   "metadata": {},
   "outputs": [],
   "source": [
    "# !pip install pyodbc pandas pyspark\n"
   ]
  },
  {
   "cell_type": "code",
   "execution_count": 24,
   "id": "331a5d6a-1d88-4d4a-8e35-fed4f33ca781",
   "metadata": {
    "tags": []
   },
   "outputs": [],
   "source": [
    "# pip install pyodbc pandas\n",
    "import pyodbc\n",
    "import pandas as pd\n",
    "import pyspark\n",
    "import random\n",
    "from pyspark.sql import SparkSession"
   ]
  },
  {
   "cell_type": "code",
   "execution_count": 25,
   "id": "1bc6827f-abd7-4eb2-9c0a-3e8eaf307c3a",
   "metadata": {},
   "outputs": [],
   "source": [
    "# pip install \"pymongo[srv]\""
   ]
  },
  {
   "cell_type": "code",
   "execution_count": 26,
   "id": "277ebd02-975d-4ff4-ac51-881bc16061fc",
   "metadata": {},
   "outputs": [],
   "source": [
    "from pyspark.sql import SparkSession\n",
    "\n",
    "# Create Spark session\n",
    "spark = SparkSession.builder \\\n",
    "    .appName(\"MySparkApp\") \\\n",
    "    .config(\"spark.driver.memory\",\"4g\")\\\n",
    "    .config(\"spark.sql.legacy.timeParserPolicy\",\"LEGACY\")\\\n",
    "    .getOrCreate()\n"
   ]
  },
  {
   "cell_type": "code",
   "execution_count": null,
   "id": "62627f20-ff0c-499b-a6f1-3a8cc96a15fc",
   "metadata": {},
   "outputs": [],
   "source": []
  },
  {
   "cell_type": "code",
   "execution_count": 27,
   "id": "27d1b297-d585-4dd0-a426-f6f595950c2e",
   "metadata": {
    "tags": []
   },
   "outputs": [
    {
     "name": "stderr",
     "output_type": "stream",
     "text": [
      "C:\\Users\\macwa\\AppData\\Local\\Temp\\ipykernel_13668\\2936498768.py:18: UserWarning: pandas only supports SQLAlchemy connectable (engine/connection) or database string URI or sqlite3 DBAPI2 connection. Other DBAPI2 objects are not tested. Please consider using SQLAlchemy.\n",
      "  df1 = pd.read_sql(query1, conn)\n"
     ]
    },
    {
     "name": "stdout",
     "output_type": "stream",
     "text": [
      "  INCIDENT_KEY  OCCUR_DATE OCCUR_TIME       BORO LOC_OF_OCCUR_DESC PRECINCT  \\\n",
      "0     80086639  08/01/2011   21:41:00      BRONX                         40   \n",
      "1    231941260  08/07/2021   20:49:00  MANHATTAN                         34   \n",
      "2     73408255  06/26/2010   02:10:00      BRONX                         47   \n",
      "3     32320695  06/16/2007   02:52:00     QUEENS                        103   \n",
      "4    248661285  07/27/2022   19:45:00   BROOKLYN           OUTSIDE       75   \n",
      "\n",
      "  JURISDICTION_CODE LOC_CLASSFCTN_DESC              LOCATION_DESC  \\\n",
      "0                 0                     MULTI DWELL - PUBLIC HOUS   \n",
      "1                 0                                                 \n",
      "2                 0                                                 \n",
      "3                 0                                                 \n",
      "4                 0             STREET                     (null)   \n",
      "\n",
      "  STATISTICAL_MURDER_FLAG  ... PERP_SEX PERP_RACE VIC_AGE_GROUP VIC_SEX  \\\n",
      "0                    true  ...        M     BLACK         25-44       M   \n",
      "1                   false  ...        M     BLACK           <18       M   \n",
      "2                   false  ...                            25-44       M   \n",
      "3                   false  ...                            18-24       M   \n",
      "4                   false  ...        F     BLACK         25-44       M   \n",
      "\n",
      "         VIC_RACE               X_COORD_CD              Y_COORD_CD  \\\n",
      "0  BLACK HISPANIC  1006115.250000000000000  238062.421875000000000   \n",
      "1           BLACK                  1005602                  254991   \n",
      "2           BLACK  1027038.062500000000000  259447.890625000000000   \n",
      "3           BLACK  1041749.000000000000000  196938.000000000000000   \n",
      "4           BLACK                  1019944                  182318   \n",
      "\n",
      "             Latitude            Longitude  \\\n",
      "0  40.820083174000047  -73.921003157999962   \n",
      "1  40.866548411000046   -73.92280361099995   \n",
      "2  40.878703316000042  -73.845273497999983   \n",
      "3  40.707047475000024  -73.792611903999955   \n",
      "4           40.667027           -73.871333   \n",
      "\n",
      "                                         Lon_Lat  \n",
      "0   POINT (-73.92100315799996 40.82008317400005)  \n",
      "1  POINT (-73.92280361099995 40.866548411000046)  \n",
      "2   POINT (-73.84527349799998 40.87870331600004)  \n",
      "3  POINT (-73.79261190399995 40.707047475000024)  \n",
      "4                   POINT (-73.871333 40.667027)  \n",
      "\n",
      "[5 rows x 21 columns]\n",
      "(28562, 21)\n"
     ]
    },
    {
     "name": "stderr",
     "output_type": "stream",
     "text": [
      "C:\\Users\\macwa\\AppData\\Local\\Temp\\ipykernel_13668\\2936498768.py:19: UserWarning: pandas only supports SQLAlchemy connectable (engine/connection) or database string URI or sqlite3 DBAPI2 connection. Other DBAPI2 objects are not tested. Please consider using SQLAlchemy.\n",
      "  df2 = pd.read_sql(query2, conn)\n"
     ]
    }
   ],
   "source": [
    "import pyodbc\n",
    "import pandas as pd\n",
    "\n",
    "# Connection string with raw string notation\n",
    "conn = pyodbc.connect(r'Driver={SQL Server};'\n",
    "                      r'Server=BUMBLEBEE;'\n",
    "                      r'Database=ShootingIncidentNYPD;'\n",
    "                      r'Trusted_Connection=yes;')\n",
    "\n",
    "# Create a cursor object\n",
    "cursor = conn.cursor()\n",
    "\n",
    "# Define your query\n",
    "query1 = 'SELECT [INCIDENT_KEY],[OCCUR_DATE],[OCCUR_TIME],[BORO] ,[LOC_OF_OCCUR_DESC],[PRECINCT],[JURISDICTION_CODE],[LOC_CLASSFCTN_DESC],[LOCATION_DESC],[STATISTICAL_MURDER_FLAG],[PERP_AGE_GROUP],[PERP_SEX],[PERP_RACE],[VIC_AGE_GROUP],[VIC_SEX],[VIC_RACE],[X_COORD_CD],[Y_COORD_CD],[Latitude],[Longitude],[Lon_Lat] FROM [ShootingIncidentNYPD].[dbo].[NYPD_Shooting_Incident_Data__Historic_]'  \n",
    "query2 = 'SELECT [INCIDENT_KEY] ,[OCCUR_DATE]      ,[OCCUR_TIME]      ,[BORO]      ,[LOC_OF_OCCUR_DESC]      ,[PRECINCT]      ,[JURISDICTION_CODE]      ,[LOC_CLASSFCTN_DESC]      ,[LOCATION_DESC]      ,[STATISTICAL_MURDER_FLAG]      ,[PERP_AGE_GROUP]      ,[PERP_SEX]      ,[PERP_RACE]      ,[VIC_AGE_GROUP]      ,[VIC_SEX]      ,[VIC_RACE]      ,[X_COORD_CD]      ,[Y_COORD_CD]      ,[Latitude]      ,[Longitude]      ,[New Georeferenced Column]  FROM [ShootingIncidentNYPD].[dbo].[NYPD_Shooting_Incident_Data__Year_To_Date_]'  \n",
    "\n",
    "# Execute the query and fetch the data into a pandas DataFrame\n",
    "df1 = pd.read_sql(query1, conn)\n",
    "df2 = pd.read_sql(query2, conn)\n",
    "\n",
    "# Display the DataFrame\n",
    "print(df1.head())\n",
    "print(df1.shape)"
   ]
  },
  {
   "cell_type": "code",
   "execution_count": 28,
   "id": "d25f1e00-d310-44c3-8d0c-9fe531d95474",
   "metadata": {},
   "outputs": [
    {
     "name": "stdout",
     "output_type": "stream",
     "text": [
      "  INCIDENT_KEY  OCCUR_DATE OCCUR_TIME      BORO LOC_OF_OCCUR_DESC PRECINCT  \\\n",
      "0    283390056  03/07/2024   17:15:00  BROOKLYN           OUTSIDE       73   \n",
      "1    283404608  03/07/2024   16:14:00     BRONX           OUTSIDE       40   \n",
      "2    281250471  01/27/2024   18:36:00  BROOKLYN           OUTSIDE       75   \n",
      "3    283951187  03/18/2024   22:00:00    QUEENS           OUTSIDE      103   \n",
      "4    279799858  01/01/2024   14:57:00     BRONX           OUTSIDE       52   \n",
      "\n",
      "  JURISDICTION_CODE LOC_CLASSFCTN_DESC LOCATION_DESC STATISTICAL_MURDER_FLAG  \\\n",
      "0                 0             STREET        (null)                       N   \n",
      "1                 0             STREET        (null)                       Y   \n",
      "2                 0             STREET        (null)                       N   \n",
      "3                 0           DWELLING     PVT HOUSE                       N   \n",
      "4                 0             STREET        (null)                       N   \n",
      "\n",
      "   ... PERP_SEX       PERP_RACE VIC_AGE_GROUP VIC_SEX        VIC_RACE  \\\n",
      "0  ...        M           BLACK         18-24       M           BLACK   \n",
      "1  ...        M           BLACK           <18       M           BLACK   \n",
      "2  ...   (null)          (null)         25-44       M           BLACK   \n",
      "3  ...   (null)          (null)         25-44       M           BLACK   \n",
      "4  ...        M  BLACK HISPANIC         18-24       M  WHITE HISPANIC   \n",
      "\n",
      "  X_COORD_CD Y_COORD_CD           Latitude           Longitude  \\\n",
      "0    1008245     183796                                          \n",
      "1    1005028     234516                                          \n",
      "2    1015391     181282            40.6642           -73.88775   \n",
      "3    1042419     193657          40.698032          -73.790219   \n",
      "4    1014086     254305  40.86463266264929  -73.89213149135563   \n",
      "\n",
      "                       New Georeferenced Column  \n",
      "0                                                \n",
      "1                                                \n",
      "2                     POINT (-73.88775 40.6642)  \n",
      "3                  POINT (-73.790219 40.698032)  \n",
      "4  POINT (-73.89213149135563 40.86463266264929)  \n",
      "\n",
      "[5 rows x 21 columns]\n",
      "(232, 21)\n"
     ]
    }
   ],
   "source": [
    "print(df2.head())\n",
    "print(df2.shape)"
   ]
  },
  {
   "cell_type": "code",
   "execution_count": 29,
   "id": "15024a35-58a7-44d4-9146-2adeb6aa6325",
   "metadata": {},
   "outputs": [
    {
     "name": "stderr",
     "output_type": "stream",
     "text": [
      "C:\\Users\\macwa\\AppData\\Local\\Temp\\ipykernel_13668\\3152273496.py:13: FutureWarning: DataFrame.fillna with 'method' is deprecated and will raise in a future version. Use obj.ffill() or obj.bfill() instead.\n",
      "  df_combined = df_combined.fillna(method='ffill').fillna(method='bfill')\n"
     ]
    },
    {
     "name": "stdout",
     "output_type": "stream",
     "text": [
      "   index INCIDENT_KEY  OCCUR_DATE OCCUR_TIME       BORO LOC_OF_OCCUR_DESC  \\\n",
      "0      0     80086639  08/01/2011   21:41:00      BRONX                     \n",
      "1      1    231941260  08/07/2021   20:49:00  MANHATTAN                     \n",
      "2      2     73408255  06/26/2010   02:10:00      BRONX                     \n",
      "3      3     32320695  06/16/2007   02:52:00     QUEENS                     \n",
      "4      4    248661285  07/27/2022   19:45:00   BROOKLYN           OUTSIDE   \n",
      "\n",
      "  PRECINCT JURISDICTION_CODE LOC_CLASSFCTN_DESC              LOCATION_DESC  \\\n",
      "0       40                 0                     MULTI DWELL - PUBLIC HOUS   \n",
      "1       34                 0                                                 \n",
      "2       47                 0                                                 \n",
      "3      103                 0                                                 \n",
      "4       75                 0             STREET                     (null)   \n",
      "\n",
      "   ... PERP_RACE VIC_AGE_GROUP VIC_SEX        VIC_RACE  \\\n",
      "0  ...     BLACK         25-44       M  BLACK HISPANIC   \n",
      "1  ...     BLACK           <18       M           BLACK   \n",
      "2  ...                   25-44       M           BLACK   \n",
      "3  ...                   18-24       M           BLACK   \n",
      "4  ...     BLACK         25-44       M           BLACK   \n",
      "\n",
      "                X_COORD_CD              Y_COORD_CD            Latitude  \\\n",
      "0  1006115.250000000000000  238062.421875000000000  40.820083174000047   \n",
      "1                  1005602                  254991  40.866548411000046   \n",
      "2  1027038.062500000000000  259447.890625000000000  40.878703316000042   \n",
      "3  1041749.000000000000000  196938.000000000000000  40.707047475000024   \n",
      "4                  1019944                  182318           40.667027   \n",
      "\n",
      "             Longitude                                        Lon_Lat  \\\n",
      "0  -73.921003157999962   POINT (-73.92100315799996 40.82008317400005)   \n",
      "1   -73.92280361099995  POINT (-73.92280361099995 40.866548411000046)   \n",
      "2  -73.845273497999983   POINT (-73.84527349799998 40.87870331600004)   \n",
      "3  -73.792611903999955  POINT (-73.79261190399995 40.707047475000024)   \n",
      "4           -73.871333                   POINT (-73.871333 40.667027)   \n",
      "\n",
      "  New Georeferenced Column  \n",
      "0                           \n",
      "1                           \n",
      "2                           \n",
      "3                           \n",
      "4                           \n",
      "\n",
      "[5 rows x 23 columns]\n",
      "(28794, 23)\n"
     ]
    }
   ],
   "source": [
    "# Merge DataFrames on 'INCIDENT_KEY'\n",
    "df_combined = pd.concat([df1, df2], ignore_index=True)\n",
    "df_combined.reset_index(inplace=True)\n",
    "\n",
    "# Rename columns for better readability if needed\n",
    "df_combined.rename(columns={'OCCUR_DATE_historic': 'Occurrence Date Historic',\n",
    "                            'OCCUR_DATE_current': 'Occurrence Date Current',\n",
    "                            'OCCUR_TIME_historic': 'Occurrence Time Historic',\n",
    "                            'OCCUR_TIME_current': 'Occurrence Time Current',\n",
    "                            'BORO_historic': 'Borough Historic',\n",
    "                            'BORO_current': 'Borough Current'}, inplace=True)\n",
    "\n",
    "df_combined = df_combined.fillna(method='ffill').fillna(method='bfill')\n",
    "\n",
    "# Display the cleaned DataFrame\n",
    "print(df_combined.head())\n",
    "print(df_combined.shape)"
   ]
  },
  {
   "cell_type": "code",
   "execution_count": 30,
   "id": "57851f5b-44fa-4b41-91f4-ddae2da1afee",
   "metadata": {},
   "outputs": [],
   "source": [
    "df_combined_spark= spark.createDataFrame(df_combined)"
   ]
  },
  {
   "cell_type": "code",
   "execution_count": 31,
   "id": "529aa910-048c-4775-8e73-0792e69ffc37",
   "metadata": {},
   "outputs": [
    {
     "name": "stdout",
     "output_type": "stream",
     "text": [
      "+-----+------------+----------+----------+---------+-----------------+--------+-----------------+------------------+--------------------+-----------------------+--------------+--------+--------------+-------------+-------+--------------+--------------------+--------------------+------------------+-------------------+--------------------+------------------------+\n",
      "|index|INCIDENT_KEY|OCCUR_DATE|OCCUR_TIME|     BORO|LOC_OF_OCCUR_DESC|PRECINCT|JURISDICTION_CODE|LOC_CLASSFCTN_DESC|       LOCATION_DESC|STATISTICAL_MURDER_FLAG|PERP_AGE_GROUP|PERP_SEX|     PERP_RACE|VIC_AGE_GROUP|VIC_SEX|      VIC_RACE|          X_COORD_CD|          Y_COORD_CD|          Latitude|          Longitude|             Lon_Lat|New Georeferenced Column|\n",
      "+-----+------------+----------+----------+---------+-----------------+--------+-----------------+------------------+--------------------+-----------------------+--------------+--------+--------------+-------------+-------+--------------+--------------------+--------------------+------------------+-------------------+--------------------+------------------------+\n",
      "|    0|    80086639|08/01/2011|  21:41:00|    BRONX|                 |      40|                0|                  |MULTI DWELL - PUB...|                   true|         25-44|       M|         BLACK|        25-44|      M|BLACK HISPANIC|1006115.250000000...|238062.4218750000...|40.820083174000047|-73.921003157999962|POINT (-73.921003...|                        |\n",
      "|    1|   231941260|08/07/2021|  20:49:00|MANHATTAN|                 |      34|                0|                  |                    |                  false|         18-24|       M|         BLACK|          <18|      M|         BLACK|             1005602|              254991|40.866548411000046| -73.92280361099995|POINT (-73.922803...|                        |\n",
      "|    2|    73408255|06/26/2010|  02:10:00|    BRONX|                 |      47|                0|                  |                    |                  false|              |        |              |        25-44|      M|         BLACK|1027038.062500000...|259447.8906250000...|40.878703316000042|-73.845273497999983|POINT (-73.845273...|                        |\n",
      "|    3|    32320695|06/16/2007|  02:52:00|   QUEENS|                 |     103|                0|                  |                    |                  false|              |        |              |        18-24|      M|         BLACK|1041749.000000000...|196938.0000000000...|40.707047475000024|-73.792611903999955|POINT (-73.792611...|                        |\n",
      "|    4|   248661285|07/27/2022|  19:45:00| BROOKLYN|          OUTSIDE|      75|                0|            STREET|              (null)|                  false|         25-44|       F|         BLACK|        25-44|      M|         BLACK|             1019944|              182318|         40.667027|         -73.871333|POINT (-73.871333...|                        |\n",
      "|    5|    95128109|02/27/2014|  19:46:00| BROOKLYN|                 |      76|                2|                  |MULTI DWELL - PUB...|                  false|              |        |              |        18-24|      M|         BLACK|987560.4375000000...|187812.6406250000...|40.682186672000057|-73.988065696999968|POINT (-73.988065...|                        |\n",
      "|    6|    16631477|05/27/2006|  19:00:00| BROOKLYN|                 |      84|                0|                  |                    |                  false|       UNKNOWN|       M|         BLACK|        18-24|      M|         BLACK|988740.3125000000...|194815.4687500000...|40.701407302000064|-73.983807003999971|POINT (-73.983807...|                        |\n",
      "|    7|    84978497|05/28/2012|  01:11:00|MANHATTAN|                 |      32|                0|                  |           FAST FOOD|                   true|              |        |              |        18-24|      M|         BLACK|1001053.187500000...|236709.8750000000...|40.816381892000038|-73.939295571999935|POINT (-73.939295...|                        |\n",
      "|    8|   157551383|10/12/2016|  17:10:00|    BRONX|                 |      40|                2|                  |MULTI DWELL - PUB...|                  false|         45-64|       M|         BLACK|        25-44|      M|         BLACK|1005946.937500000...|235372.1093750000...|40.812699437000049|-73.921619959999987|POINT (-73.921619...|                        |\n",
      "|    9|   234396485|10/01/2021|  15:02:00| BROOKLYN|                 |      84|                0|                  |                    |                  false|              |        |              |          <18|      F|         BLACK|              987679|              188770| 40.68481436100007| -73.98763773499996|POINT (-73.987637...|                        |\n",
      "|   10|    65844394|09/16/2009|  21:25:00| BROOKLYN|                 |      73|                2|                  |MULTI DWELL - PUB...|                  false|       UNKNOWN|       U|       UNKNOWN|        25-44|      M|WHITE HISPANIC|1010281.375000000...|182200.4062500000...|40.666744702000074|-73.906167308999954|POINT (-73.906167...|                        |\n",
      "|   11|   248602153|07/26/2022|  21:17:00| BROOKLYN|          OUTSIDE|      67|                0|          DWELLING|           PVT HOUSE|                  false|         25-44|       M|         BLACK|        25-44|      F|         BLACK|             1007015|              178099|          40.65549|         -73.917952|POINT (-73.917952...|                        |\n",
      "|   12|    35480307|11/04/2007|  01:06:00|    BRONX|                 |      41|                0|                  |                    |                  false|       UNKNOWN|       U|       UNKNOWN|          <18|      M|         BLACK|1013526.187500000...|236950.6093750000...|40.817010111000059|-73.894232601999988|POINT (-73.894232...|                        |\n",
      "|   13|    75654394|11/21/2010|  18:25:00|    BRONX|                 |      47|                0|                  |                    |                  false|           <18|       M|WHITE HISPANIC|        18-24|      M|BLACK HISPANIC|1030898.000000000...|262777.0000000000...|40.887821110000061|-73.831292240999971|POINT (-73.831292...|                        |\n",
      "|   14|    25452379|11/23/2006|  22:47:00|MANHATTAN|                 |      33|                0|                  |                    |                  false|         18-24|       M|BLACK HISPANIC|        25-44|      M|WHITE HISPANIC|1001936.000000000...|245282.0000000000...|40.839908201000071|-73.936083586999985|POINT (-73.936083...|                        |\n",
      "|   15|    89875006|03/30/2013|  22:45:00| BROOKLYN|                 |      83|                0|                  |                    |                  false|              |        |              |        25-44|      M|         BLACK|1005464.000000000...|192129.0000000000...|40.694009286000039|-73.923501021999982|POINT (-73.923501...|                        |\n",
      "|   16|   243300894|04/09/2022|  22:27:00|    BRONX|          OUTSIDE|      44|                0|            STREET|MULTI DWELL - APT...|                  false|         25-44|       M|WHITE HISPANIC|        25-44|      M|         BLACK|             1007267|              240281|         40.826163|          -73.91683|POINT (-73.91683 ...|                        |\n",
      "|   17|    94182834|12/25/2013|  23:35:00|MANHATTAN|                 |      25|                0|                  |                    |                  false|              |        |              |        25-44|      M|         BLACK|999724.0000000000...|230625.4843750000...|40.799684351000053|-73.944111629999952|POINT (-73.944111...|                        |\n",
      "|   18|    73533752|07/05/2010|  14:50:00| BROOKLYN|                 |      81|                0|                  |           PVT HOUSE|                  false|         18-24|       M|         BLACK|        25-44|      M|         BLACK|1004958.875000000...|189805.2812500000...|40.687632411000038|-73.925329709999971|POINT (-73.925329...|                        |\n",
      "|   19|   142889363|05/13/2015|  09:42:00| BROOKLYN|                 |      73|                2|                  |MULTI DWELL - PUB...|                   true|         25-44|       M|         BLACK|        18-24|      M|         BLACK|1006995.312500000...|185257.5781250000...|40.675145003000068|-73.918002108999985|POINT (-73.918002...|                        |\n",
      "+-----+------------+----------+----------+---------+-----------------+--------+-----------------+------------------+--------------------+-----------------------+--------------+--------+--------------+-------------+-------+--------------+--------------------+--------------------+------------------+-------------------+--------------------+------------------------+\n",
      "only showing top 20 rows\n",
      "\n"
     ]
    }
   ],
   "source": [
    "df_combined_spark.show()"
   ]
  },
  {
   "cell_type": "code",
   "execution_count": 32,
   "id": "877ba7c7-1557-473a-b556-7d9edbb7ef65",
   "metadata": {},
   "outputs": [
    {
     "name": "stdout",
     "output_type": "stream",
     "text": [
      "root\n",
      " |-- index: long (nullable = true)\n",
      " |-- INCIDENT_KEY: string (nullable = true)\n",
      " |-- OCCUR_DATE: string (nullable = true)\n",
      " |-- OCCUR_TIME: string (nullable = true)\n",
      " |-- BORO: string (nullable = true)\n",
      " |-- LOC_OF_OCCUR_DESC: string (nullable = true)\n",
      " |-- PRECINCT: string (nullable = true)\n",
      " |-- JURISDICTION_CODE: string (nullable = true)\n",
      " |-- LOC_CLASSFCTN_DESC: string (nullable = true)\n",
      " |-- LOCATION_DESC: string (nullable = true)\n",
      " |-- STATISTICAL_MURDER_FLAG: string (nullable = true)\n",
      " |-- PERP_AGE_GROUP: string (nullable = true)\n",
      " |-- PERP_SEX: string (nullable = true)\n",
      " |-- PERP_RACE: string (nullable = true)\n",
      " |-- VIC_AGE_GROUP: string (nullable = true)\n",
      " |-- VIC_SEX: string (nullable = true)\n",
      " |-- VIC_RACE: string (nullable = true)\n",
      " |-- X_COORD_CD: string (nullable = true)\n",
      " |-- Y_COORD_CD: string (nullable = true)\n",
      " |-- Latitude: string (nullable = true)\n",
      " |-- Longitude: string (nullable = true)\n",
      " |-- Lon_Lat: string (nullable = true)\n",
      " |-- New Georeferenced Column: string (nullable = true)\n",
      "\n"
     ]
    }
   ],
   "source": [
    "# Show the schema to understand data types\n",
    "df_combined_spark.printSchema()\n"
   ]
  },
  {
   "cell_type": "code",
   "execution_count": 33,
   "id": "5cd75deb-d101-44b3-af39-0935492927b9",
   "metadata": {},
   "outputs": [],
   "source": [
    "from pyspark.sql.functions import col\n",
    "import functools\n",
    "\n",
    "# Combine conditions for all columns with non-null values\n",
    "non_null_conditions = [col(c).isNotNull() for c in df_combined_spark.columns]\n",
    "condition = functools.reduce(lambda x, y: x & y, non_null_conditions)\n",
    "\n",
    "# Filter DataFrame based on the combined condition\n",
    "df_combined_spark = df_combined_spark.filter(condition)\n"
   ]
  },
  {
   "cell_type": "code",
   "execution_count": 34,
   "id": "a1d27aa3-2209-4c7c-b7ac-5530f8a194c4",
   "metadata": {},
   "outputs": [],
   "source": [
    "# Fill missing values in specific columns\n",
    "from pyspark.sql.functions import col, lit, when, count, mean, median, mode, first\n",
    "\n",
    "# Fill categorical columns with mode or placeholder\n",
    "categorical_columns = [\n",
    "    'BORO', 'LOC_OF_OCCUR_DESC', 'JURISDICTION_CODE', 'LOC_CLASSFCTN_DESC', 'LOCATION_DESC',\n",
    "    'PERP_AGE_GROUP', 'PERP_SEX', 'PERP_RACE', 'VIC_AGE_GROUP', 'VIC_SEX', 'VIC_RACE'\n",
    "]\n",
    "\n",
    "for column in categorical_columns:\n",
    "    mode_value = df_combined_spark.select(column).groupBy(column).count().orderBy(\"count\", ascending=False).first()[0]\n",
    "    df_combined_spark = df_combined_spark.withColumn(column, when(col(column).isNull(), mode_value).otherwise(col(column)))\n",
    "\n",
    "# Fill numerical columns \n",
    "numerical_columns = ['PRECINCT', 'X_COORD_CD', 'Y_COORD_CD', 'Latitude', 'Longitude']\n",
    "for column in numerical_columns:\n",
    "    mean_value = df_combined_spark.select(mean(col(column))).first()[0]\n",
    "    df_combined_spark = df_combined_spark.withColumn(column, when(col(column).isNull(), mean_value).otherwise(col(column)))\n",
    "\n",
    "# Fill date/time columns with placeholders\n",
    "date_columns = ['OCCUR_DATE', 'OCCUR_TIME']\n",
    "for column in date_columns:\n",
    "    placeholder_value = '1900-01-01' if column == 'OCCUR_DATE' else '00:00:00'\n",
    "    df_combined_spark = df_combined_spark.withColumn(column, when(col(column).isNull(), lit(placeholder_value)).otherwise(col(column)))\n"
   ]
  },
  {
   "cell_type": "code",
   "execution_count": 35,
   "id": "299ea1a1-a6cf-4653-b30b-e3d2f05eae4a",
   "metadata": {},
   "outputs": [],
   "source": [
    "from pyspark.sql.functions import to_date, col\n",
    "\n",
    "# Convert 'OCCUR_DATE' to DateType\n",
    "df_combined_spark = df_combined_spark.withColumn('OCCUR_DATE', to_date(col('OCCUR_DATE'), 'MM/dd/yyyy'))"
   ]
  },
  {
   "cell_type": "code",
   "execution_count": 36,
   "id": "fd3b6347-146b-43fd-8757-714a3adeaec3",
   "metadata": {},
   "outputs": [],
   "source": [
    "from pyspark.sql.functions import lower\n",
    "\n",
    "# Convert categorical columns to lowercase\n",
    "categorical_columns = ['BORO', 'LOC_OF_OCCUR_DESC', 'PERP_AGE_GROUP', 'PERP_SEX', 'PERP_RACE', 'VIC_AGE_GROUP', 'VIC_SEX', 'VIC_RACE']\n",
    "for col_name in categorical_columns:\n",
    "    df_combined_spark = df_combined_spark.withColumn(col_name, lower(col(col_name)))"
   ]
  },
  {
   "cell_type": "code",
   "execution_count": 37,
   "id": "f10c9ba7-02aa-480c-ae17-afe93a6ebf29",
   "metadata": {},
   "outputs": [],
   "source": [
    "# Remove duplicate rows\n",
    "df_combined_spark = df_combined_spark.dropDuplicates()"
   ]
  },
  {
   "cell_type": "code",
   "execution_count": 38,
   "id": "cdedfa7c-87d3-4c23-8548-b21434d33df5",
   "metadata": {},
   "outputs": [],
   "source": [
    "from pyspark.sql.functions import year, month\n",
    "\n",
    "# Extract year and month from 'OCCUR_DATE'\n",
    "df_combined_spark = df_combined_spark.withColumn('YEAR', year(col('OCCUR_DATE')))\n",
    "df_combined_spark = df_combined_spark.withColumn('MONTH', month(col('OCCUR_DATE')))"
   ]
  },
  {
   "cell_type": "code",
   "execution_count": 39,
   "id": "b11afdd1-77b5-43d4-95ef-7c15ea73b0ad",
   "metadata": {},
   "outputs": [
    {
     "name": "stdout",
     "output_type": "stream",
     "text": [
      "+-----------------+------------------------+----------------------+----------------------+----------------+-----------------------------+--------------------+-----------------------------+------------------------------+-------------------------+-----------------------------------+--------------------------+--------------------+---------------------+-------------------------+-------------------+--------------------+----------------------+----------------------+--------------------+---------------------+-------------------+------------------------------------+----------------+-----------------+\n",
      "|index_missing_pct|INCIDENT_KEY_missing_pct|OCCUR_DATE_missing_pct|OCCUR_TIME_missing_pct|BORO_missing_pct|LOC_OF_OCCUR_DESC_missing_pct|PRECINCT_missing_pct|JURISDICTION_CODE_missing_pct|LOC_CLASSFCTN_DESC_missing_pct|LOCATION_DESC_missing_pct|STATISTICAL_MURDER_FLAG_missing_pct|PERP_AGE_GROUP_missing_pct|PERP_SEX_missing_pct|PERP_RACE_missing_pct|VIC_AGE_GROUP_missing_pct|VIC_SEX_missing_pct|VIC_RACE_missing_pct|X_COORD_CD_missing_pct|Y_COORD_CD_missing_pct|Latitude_missing_pct|Longitude_missing_pct|Lon_Lat_missing_pct|New Georeferenced Column_missing_pct|YEAR_missing_pct|MONTH_missing_pct|\n",
      "+-----------------+------------------------+----------------------+----------------------+----------------+-----------------------------+--------------------+-----------------------------+------------------------------+-------------------------+-----------------------------------+--------------------------+--------------------+---------------------+-------------------------+-------------------+--------------------+----------------------+----------------------+--------------------+---------------------+-------------------+------------------------------------+----------------+-----------------+\n",
      "|              0.0|                     0.0|                   0.0|                   0.0|             0.0|                          0.0|                 0.0|                          0.0|                           0.0|                      0.0|                                0.0|                       0.0|                 0.0|                  0.0|                      0.0|                0.0|                 0.0|                   0.0|                   0.0|                 0.0|                  0.0|                0.0|                                 0.0|             0.0|              0.0|\n",
      "+-----------------+------------------------+----------------------+----------------------+----------------+-----------------------------+--------------------+-----------------------------+------------------------------+-------------------------+-----------------------------------+--------------------------+--------------------+---------------------+-------------------------+-------------------+--------------------+----------------------+----------------------+--------------------+---------------------+-------------------+------------------------------------+----------------+-----------------+\n",
      "\n"
     ]
    }
   ],
   "source": [
    "from pyspark.sql.functions import col, sum, when\n",
    "\n",
    "# Count the total number of rows\n",
    "total_rows = df_combined_spark.count()\n",
    "\n",
    "# Calculate the number of missing values in each column\n",
    "missing_counts = df_combined_spark.select([(sum(col(c).isNull().cast(\"int\"))).alias(c) for c in df_combined_spark.columns])\n",
    "\n",
    "# Calculate the percentage of missing values\n",
    "missing_percentages = missing_counts.select([(col(c) / total_rows * 100).alias(f\"{c}_missing_pct\") for c in df_combined_spark.columns])\n",
    "\n",
    "# Show the missing percentages\n",
    "missing_percentages.show()\n"
   ]
  },
  {
   "cell_type": "code",
   "execution_count": 40,
   "id": "d92c4fb0-974f-4c6a-9a88-941840cb92f5",
   "metadata": {},
   "outputs": [],
   "source": [
    "# Drop columns with more than a threshold percentage of missing values\n",
    "threshold = 0.5 * total_rows\n",
    "\n",
    "# Get a list of columns to drop\n",
    "columns_to_drop = [column for column in df_combined_spark.columns if df_combined_spark.filter(col(column).isNull()).count() > threshold]\n",
    "\n",
    "# Drop the columns\n",
    "df_combined_spark = df_combined_spark.drop(*columns_to_drop)\n",
    "\n",
    "\n",
    "df_combined_spark = df_combined_spark.drop('index','New Georeferenced Column','Lon_Lat','LOC_OF_OCCUR_DESC','JURISDICTION_CODE','LOC_CLASSFCTN_DESC')"
   ]
  },
  {
   "cell_type": "code",
   "execution_count": 41,
   "id": "1febe430-c088-47be-b16a-c8edd076b138",
   "metadata": {},
   "outputs": [
    {
     "name": "stdout",
     "output_type": "stream",
     "text": [
      "root\n",
      " |-- INCIDENT_KEY: string (nullable = true)\n",
      " |-- OCCUR_DATE: date (nullable = true)\n",
      " |-- OCCUR_TIME: string (nullable = true)\n",
      " |-- BORO: string (nullable = true)\n",
      " |-- PRECINCT: string (nullable = true)\n",
      " |-- LOCATION_DESC: string (nullable = true)\n",
      " |-- STATISTICAL_MURDER_FLAG: string (nullable = true)\n",
      " |-- PERP_AGE_GROUP: string (nullable = true)\n",
      " |-- PERP_SEX: string (nullable = true)\n",
      " |-- PERP_RACE: string (nullable = true)\n",
      " |-- VIC_AGE_GROUP: string (nullable = true)\n",
      " |-- VIC_SEX: string (nullable = true)\n",
      " |-- VIC_RACE: string (nullable = true)\n",
      " |-- X_COORD_CD: string (nullable = true)\n",
      " |-- Y_COORD_CD: string (nullable = true)\n",
      " |-- Latitude: string (nullable = true)\n",
      " |-- Longitude: string (nullable = true)\n",
      " |-- YEAR: integer (nullable = true)\n",
      " |-- MONTH: integer (nullable = true)\n",
      "\n"
     ]
    }
   ],
   "source": [
    "df_combined_spark.printSchema()"
   ]
  },
  {
   "cell_type": "code",
   "execution_count": 42,
   "id": "5989da55-9ceb-4926-940e-8ef0a84f3f86",
   "metadata": {},
   "outputs": [],
   "source": [
    "#Removing Outliers \n",
    "from pyspark.sql.functions import col\n",
    "\n",
    "# Assuming \"X_COORD_CD\" and \"Y_COORD_CD\" are strings (cast if necessary)\n",
    "df_combined_spark = df_combined_spark.withColumn(\"X_COORD_CD_numeric\", col(\"X_COORD_CD\").cast(\"double\"))\n",
    "df_combined_spark = df_combined_spark.withColumn(\"Y_COORD_CD_numeric\", col(\"Y_COORD_CD\").cast(\"double\"))\n",
    "\n",
    "# Removing outliers using IQR method for 'X_COORD_CD' (using the casted column)\n",
    "Q1 = df_combined_spark.approxQuantile(\"X_COORD_CD_numeric\", [0.25], 0.05)\n",
    "Q3 = df_combined_spark.approxQuantile(\"X_COORD_CD_numeric\", [0.75], 0.05)\n",
    "IQR = Q3[0] - Q1[0]\n",
    "lower_bound = Q1[0] - 1.5 * IQR\n",
    "upper_bound = Q3[0] + 1.5 * IQR\n",
    "\n",
    "df_combined_spark = df_combined_spark.filter((col('X_COORD_CD') >= lower_bound) & (col('X_COORD_CD') <= upper_bound))\n"
   ]
  },
  {
   "cell_type": "code",
   "execution_count": 43,
   "id": "ffdd5160-09d9-439f-b29b-28a59406c055",
   "metadata": {},
   "outputs": [
    {
     "name": "stdout",
     "output_type": "stream",
     "text": [
      "+------------+----------+----------+---------+--------+--------------------+-----------------------+--------------+--------+--------------+-------------+-------+--------------+--------------------+--------------------+------------------+-------------------+----+-----+------------------+------------------+\n",
      "|INCIDENT_KEY|OCCUR_DATE|OCCUR_TIME|     BORO|PRECINCT|       LOCATION_DESC|STATISTICAL_MURDER_FLAG|PERP_AGE_GROUP|PERP_SEX|     PERP_RACE|VIC_AGE_GROUP|VIC_SEX|      VIC_RACE|          X_COORD_CD|          Y_COORD_CD|          Latitude|          Longitude|YEAR|MONTH|X_COORD_CD_numeric|Y_COORD_CD_numeric|\n",
      "+------------+----------+----------+---------+--------+--------------------+-----------------------+--------------+--------+--------------+-------------+-------+--------------+--------------------+--------------------+------------------+-------------------+----+-----+------------------+------------------+\n",
      "|   146283083|2015-09-20|  04:00:00|    bronx|      40|                    |                  false|              |        |              |        25-44|      m|         black|1006158.812500000...|237172.7343750000...| 40.81764112500008|-73.920848672999966|2015|    9|      1006158.8125|     237172.734375|\n",
      "|   214928904|2020-07-04|  19:29:00|manhattan|      32|      GROCERY/BODEGA|                  false|              |        |              |        18-24|      m|         black|998593.1875000000...|235937.8125000000...|40.814267133000044|-73.948184607999963|2020|    7|       998593.1875|       235937.8125|\n",
      "|    28349211|2007-04-07|  01:58:00|    bronx|      44|           FAST FOOD|                  false|         18-24|       m|white hispanic|        25-44|      m|white hispanic|1009450.312500000...|247077.0468750000...|40.844816834000028| -73.90891985199994|2007|    4|      1009450.3125|     247077.046875|\n",
      "|    85646556|2012-07-09|  00:05:00|    bronx|      49|MULTI DWELL - APT...|                  false|              |        |              |        25-44|      m|         black|1020669.000000000...|255027.0000000000...|40.866597918000025|-73.868328960999975|2012|    7|         1020669.0|          255027.0|\n",
      "|    59146531|2009-02-27|  08:30:00| brooklyn|      71|MULTI DWELL - APT...|                  false|       unknown|       m|         black|        45-64|      m|         black|996838.7500000000...|177968.0156250000...|40.655157039000073|-73.954631226999936|2009|    2|         996838.75|     177968.015625|\n",
      "|   218459417|2020-09-28|  21:27:00| brooklyn|      81|                    |                   true|              |        |              |        25-44|      m|         black|1003903.625000000...|186483.2968750000...|40.678516728000034|-73.929144399999984|2020|    9|       1003903.625|     186483.296875|\n",
      "|    79006355|2011-05-29|  01:46:00| brooklyn|      83|                    |                   true|              |        |              |        18-24|      m|         black|1009983.937500000...|189482.3593750000...|40.686732881000069|-73.907211664999977|2011|    5|      1009983.9375|     189482.359375|\n",
      "|    32933393|2007-07-06|  19:35:00| brooklyn|      73|MULTI DWELL - PUB...|                  false|       unknown|       m|         black|        25-44|      f|         black|1006487.875000000...|183539.7500000000...|40.670431241000074|-73.919837141999949|2007|    7|       1006487.875|         183539.75|\n",
      "|   232265324|2021-08-14|  05:12:00| brooklyn|      67|                    |                  false|              |        |              |        25-44|      f|         black|              999662|              175419| 40.64815608300007| -73.94446197999997|2021|    8|          999662.0|          175419.0|\n",
      "|   173484951|2018-01-10|  14:30:00|    bronx|      43|MULTI DWELL - APT...|                   true|         45-64|       m|       unknown|        45-64|      f|white hispanic|1019590.750000000...|243320.5312500000...|40.834471539000049|-73.872289061999936|2018|    1|        1019590.75|      243320.53125|\n",
      "|    48480858|2008-07-18|  21:30:00| brooklyn|      83|                    |                  false|       unknown|       u|       unknown|        25-44|      m|white hispanic|1004624.750000000...|195571.8750000000...|40.703461145000063|-73.926517049999973|2008|    7|        1004624.75|        195571.875|\n",
      "|    10187494|2006-01-18|  21:08:00| brooklyn|      81|                    |                  false|       unknown|       m|         black|        25-44|      m|         black|1006313.000000000...|188918.0000000000...|40.685193755000057|-73.920449934999965|2006|    1|         1006313.0|          188918.0|\n",
      "|   250552264|2022-09-02|  21:22:00|    bronx|      52|              (null)|                  false|        (null)|  (null)|        (null)|        18-24|      f|         black|             1009309|              252307|         40.859165|         -73.909409|2022|    9|         1009309.0|          252307.0|\n",
      "|    44515782|2008-03-14|  15:57:00| brooklyn|      61|                    |                  false|       unknown|       m|         black|          <18|      m|         black|1000450.062500000...|157605.1718750000...|40.599259448000055|-73.941664826999954|2008|    3|      1000450.0625|     157605.171875|\n",
      "|    45893246|2008-04-22|  04:07:00| brooklyn|      73|MULTI DWELL - PUB...|                   true|              |        |              |          <18|      m|         black|1009656.312500000...|181287.0468750000...|40.664239549000058|-73.908423884999934|2008|    4|      1009656.3125|     181287.046875|\n",
      "|    80480151|2011-08-27|  02:33:00| brooklyn|      83|                    |                  false|              |        |              |        18-24|      m|         black|1008145.687500000...|189194.3750000000...|40.685947584000075|-73.913840924999988|2011|    8|      1008145.6875|        189194.375|\n",
      "|    52183622|2008-10-13|  05:20:00|   queens|     110|MULTI DWELL - APT...|                  false|       unknown|       f|white hispanic|        18-24|      m|white hispanic|1017694.500000000...|210869.0312500000...|40.745408353000073|-73.879303192999942|2008|   10|         1017694.5|      210869.03125|\n",
      "|    55064111|2008-12-20|  20:15:00| brooklyn|      73|                    |                  false|           <18|       m|         black|          <18|      m|         black|1009904.750000000...|180751.4687500000...| 40.66276879000003|-73.907530424999948|2008|   12|        1009904.75|      180751.46875|\n",
      "|   145565707|2015-08-23|  21:55:00| brooklyn|      70|MULTI DWELL - APT...|                   true|              |        |              |          <18|      f|         black|997239.5000000000...|170490.0625000000...|40.634631090000028| -73.95320130999994|2015|    8|          997239.5|       170490.0625|\n",
      "|    44797784|2008-03-25|  06:59:00|    bronx|      40|MULTI DWELL - PUB...|                  false|         45-64|       m|black hispanic|        45-64|      f|black hispanic|1009821.437500000...|236558.7500000000...|40.815946068000073|-73.907618585999955|2008|    3|      1009821.4375|         236558.75|\n",
      "+------------+----------+----------+---------+--------+--------------------+-----------------------+--------------+--------+--------------+-------------+-------+--------------+--------------------+--------------------+------------------+-------------------+----+-----+------------------+------------------+\n",
      "only showing top 20 rows\n",
      "\n"
     ]
    }
   ],
   "source": [
    "# # Show the cleaned data\n",
    "df_combined_spark.show()\n",
    "\n"
   ]
  },
  {
   "cell_type": "code",
   "execution_count": 44,
   "id": "3e7c1a53-a563-4a79-9227-e194ed23ac83",
   "metadata": {},
   "outputs": [],
   "source": [
    "# Saving and exporting the dataframe to csv file\n",
    "df_combined_spark = df_combined_spark.coalesce(1)\n",
    "\n"
   ]
  },
  {
   "cell_type": "code",
   "execution_count": 45,
   "id": "ad95f6d5-b92a-4114-a40a-fef0175043f7",
   "metadata": {},
   "outputs": [],
   "source": [
    "df_combined_spark.write.csv('final_shooting_incident_data_nypd.csv', header=True)\n"
   ]
  },
  {
   "cell_type": "code",
   "execution_count": 46,
   "id": "36d40c15-8d96-4bf0-9735-e537da36b639",
   "metadata": {},
   "outputs": [
    {
     "name": "stdout",
     "output_type": "stream",
     "text": [
      "C:\\Users\\macwa\\anaconda3\\envs\\pyspark\\python.exe\n",
      "3.11.9 | packaged by Anaconda, Inc. | (main, Apr 19 2024, 16:40:41) [MSC v.1916 64 bit (AMD64)]\n",
      "sys.version_info(major=3, minor=11, micro=9, releaselevel='final', serial=0)\n"
     ]
    }
   ],
   "source": [
    "import sys\n",
    "print(sys.executable)\n",
    "print(sys.version)\n",
    "print(sys.version_info)"
   ]
  },
  {
   "cell_type": "code",
   "execution_count": null,
   "id": "d51924e9-0502-4cdc-acfb-bcfae16122ff",
   "metadata": {},
   "outputs": [],
   "source": [
    "# Close the cursor and connection\n",
    "spark.stop()\n",
    "cursor.close()\n",
    "conn.close()"
   ]
  },
  {
   "cell_type": "code",
   "execution_count": null,
   "id": "46481488-d779-499d-940b-03178b18b8b4",
   "metadata": {},
   "outputs": [],
   "source": []
  }
 ],
 "metadata": {
  "kernelspec": {
   "display_name": "Python 3 (ipykernel)",
   "language": "python",
   "name": "python3"
  },
  "language_info": {
   "codemirror_mode": {
    "name": "ipython",
    "version": 3
   },
   "file_extension": ".py",
   "mimetype": "text/x-python",
   "name": "python",
   "nbconvert_exporter": "python",
   "pygments_lexer": "ipython3",
   "version": "3.11.9"
  }
 },
 "nbformat": 4,
 "nbformat_minor": 5
}
