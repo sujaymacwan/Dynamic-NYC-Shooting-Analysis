{
 "cells": [
  {
   "cell_type": "code",
   "execution_count": 41,
   "id": "6e4e2478-9704-4264-a72d-924ba3f40e47",
   "metadata": {},
   "outputs": [],
   "source": [
    "#!pip install snowflake-connector-python\n",
    "#!pip install \"snowflake-connector-python[pandas]\""
   ]
  },
  {
   "cell_type": "code",
   "execution_count": 42,
   "id": "67c15118-76ac-49a5-80ac-29279833c55f",
   "metadata": {},
   "outputs": [],
   "source": [
    "from snowflake.connector.pandas_tools import write_pandas\n",
    "from pyspark.sql import SparkSession\n",
    "import snowflake.connector\n",
    "import pandas as pd"
   ]
  },
  {
   "cell_type": "code",
   "execution_count": 43,
   "id": "14ea48aa-040b-48fb-8454-97b8f3b39b32",
   "metadata": {},
   "outputs": [],
   "source": [
    "import snowflake.connector\n",
    "\n",
    "ctx = snowflake.connector.connect(\n",
    "    user='HECATERC',\n",
    "    password='GBC123bigdata++',\n",
    "    account='lu74218',\n",
    "    region='canada-central.azure',\n",
    "    Role = 'ACCOUNTADMIN',\n",
    "    Warehouse = 'bigdataproject_WH'\n",
    ")\n",
    "\n",
    "cs = ctx.cursor()\n"
   ]
  },
  {
   "cell_type": "code",
   "execution_count": 44,
   "id": "70624de0-5b46-444f-a5d9-e32d8f8032dd",
   "metadata": {},
   "outputs": [
    {
     "name": "stdout",
     "output_type": "stream",
     "text": [
      "                            AGENCY  JOB_POSTINGS_COUNT\n",
      "0   DEPT OF ENVIRONMENT PROTECTION                1103\n",
      "1    DEPT OF HEALTH/MENTAL HYGIENE                 794\n",
      "2    DEPT OF DESIGN & CONSTRUCTION                 538\n",
      "3     DEPARTMENT OF TRANSPORTATION                 534\n",
      "4      HRA/DEPT OF SOCIAL SERVICES                 503\n",
      "5            NYC HOUSING AUTHORITY                 253\n",
      "6          BRONX DISTRICT ATTORNEY                 183\n",
      "7   HOUSING PRESERVATION & DVLPMNT                 152\n",
      "8         DEPARTMENT OF CORRECTION                 119\n",
      "9        OFFICE OF THE COMPTROLLER                  86\n",
      "10     DISTRICT ATTORNEY-MANHATTAN                  82\n",
      "11  CONSUMER AND WORKER PROTECTION                  52\n",
      "12          CAMPAIGN FINANCE BOARD                  44\n",
      "13   OFFICE OF MANAGEMENT & BUDGET                  44\n",
      "14     DEPARTMENT OF CITY PLANNING                  42\n",
      "15       ADMIN FOR CHILDREN'S SVCS                  41\n",
      "16                  LAW DEPARTMENT                  38\n",
      "17     TAXI & LIMOUSINE COMMISSION                  38\n",
      "18     DEPT OF CITYWIDE ADMIN SVCS                  37\n",
      "19       ADMIN TRIALS AND HEARINGS                  36\n",
      "20      DEPT. OF HOMELESS SERVICES                  34\n",
      "21        DEPARTMENT FOR THE AGING                  31\n",
      "22         TECHNOLOGY & INNOVATION                  27\n",
      "23      DEPT OF PARKS & RECREATION                  26\n",
      "24      FINANCIAL INFO SVCS AGENCY                  26\n",
      "25           DEPARTMENT OF FINANCE                  22\n",
      "26         HUMAN RIGHTS COMMISSION                  22\n",
      "27  OFFICE OF EMERGENCY MANAGEMENT                  22\n",
      "28                 FIRE DEPARTMENT                  20\n",
      "29         DEPARTMENT OF PROBATION                  18\n",
      "30    NYC EMPLOYEES RETIREMENT SYS                  18\n",
      "31   DEPT OF YOUTH & COMM DEV SRVS                  16\n",
      "32   OFF OF PAYROLL ADMINISTRATION                  14\n",
      "33         OFFICE OF RACIAL EQUITY                  14\n",
      "34               POLICE DEPARTMENT                  12\n",
      "35  DISTRICT ATTORNEY KINGS COUNTY                  12\n",
      "36         DEPARTMENT OF BUILDINGS                  10\n",
      "37  DISTRICT ATTORNEY RICHMOND COU                  10\n",
      "38        DEPARTMENT OF SANITATION                   8\n",
      "39     DEPARTMENT OF INVESTIGATION                   8\n",
      "40      OFFICE OF CRIMINAL JUSTICE                   8\n",
      "41                CULTURAL AFFAIRS                   6\n",
      "42       OFFICE OF LABOR RELATIONS                   6\n",
      "43    CIVILIAN COMPLAINT REVIEW BD                   6\n",
      "44   BUSINESS INTEGRITY COMMISSION                   6\n",
      "45  MAYORS OFFICE OF CONTRACT SVCS                   4\n",
      "46      TEACHERS RETIREMENT SYSTEM                   4\n",
      "47         BOROUGH PRESIDENT-BRONX                   4\n",
      "48   PUBLIC ADMINISTRATOR-NEW YORK                   4\n",
      "49    MANHATTAN COMMUNITY BOARD #3                   4\n",
      "50         NYC POLICE PENSION FUND                   3\n",
      "51                  TAX COMMISSION                   3\n",
      "52   MANHATTAN COMMUNITY BOARD #12                   2\n",
      "53    MANHATTAN COMMUNITY BOARD #8                   2\n",
      "54    DEPARTMENT OF BUSINESS SERV.                   2\n",
      "55  DEPT OF RECORDS & INFO SERVICE                   2\n",
      "56        BRONX COMMUNITY BOARD #1                   1\n"
     ]
    }
   ],
   "source": [
    "# Count of Job Postings by Agency\n",
    "\n",
    "sql_query_1 = '''\n",
    "SELECT Agency, COUNT(*) AS Job_Postings_Count\n",
    "FROM BIGDATAPROJECT.PUBLIC.JOB_POSTINGS\n",
    "GROUP BY Agency\n",
    "ORDER BY Job_Postings_Count DESC\n",
    "'''\n",
    "\n",
    "cs.execute(sql_query_1)\n",
    "data1 = cs.fetch_pandas_all()\n",
    "print(data1)\n"
   ]
  },
  {
   "cell_type": "code",
   "execution_count": 45,
   "id": "b26a5690-2ef8-486c-9359-9515a2836d0d",
   "metadata": {},
   "outputs": [
    {
     "name": "stdout",
     "output_type": "stream",
     "text": [
      "                                          JOB_CATEGORY  AVG_SALARY_FROM  \\\n",
      "0    Administration & Human Resources Finance, Acco...      225000.0000   \n",
      "1    Administration & Human Resources Communication...      220000.0000   \n",
      "2    Administration & Human Resources Constituent S...      207500.0000   \n",
      "3    Legal Affairs Policy, Research & Analysis Publ...      207500.0000   \n",
      "4    Administration & Human Resources Communication...      130000.0000   \n",
      "..                                                 ...              ...   \n",
      "166  Constituent Services & Community Programs Lega...          61.5200   \n",
      "167  Administration & Human Resources Constituent S...          22.9267   \n",
      "168  Administration & Human Resources Constituent S...          16.0000   \n",
      "169  Communications & Intergovernmental Affairs Soc...          15.9300   \n",
      "170  Administration & Human Resources Constituent S...           0.0000   \n",
      "\n",
      "     AVG_SALARY_TO  \n",
      "0      246000.0000  \n",
      "1      230000.0000  \n",
      "2      220500.0000  \n",
      "3      220500.0000  \n",
      "4      150000.0000  \n",
      "..             ...  \n",
      "166        61.5200  \n",
      "167        38.1549  \n",
      "168        19.0000  \n",
      "169        24.7300  \n",
      "170     90000.0000  \n",
      "\n",
      "[171 rows x 3 columns]\n"
     ]
    }
   ],
   "source": [
    "# Average Salary Range by Job Category\n",
    "\n",
    "sql_query_2 = '''\n",
    "SELECT Job_Category, \n",
    "       AVG(Salary_Range_From) AS Avg_Salary_From, \n",
    "       AVG(Salary_Range_To) AS Avg_Salary_To\n",
    "FROM BIGDATAPROJECT.PUBLIC.JOB_POSTINGS\n",
    "GROUP BY Job_Category\n",
    "ORDER BY Avg_Salary_From DESC\n",
    "'''\n",
    "\n",
    "cs.execute(sql_query_2)\n",
    "data2 = cs.fetch_pandas_all()\n",
    "print(data2)\n"
   ]
  },
  {
   "cell_type": "code",
   "execution_count": 46,
   "id": "f457e64f-c4a1-4eca-935a-1c2ab7def740",
   "metadata": {},
   "outputs": [
    {
     "name": "stdout",
     "output_type": "stream",
     "text": [
      "                                      BUSINESS_TITLE  SALARY_RANGE_FROM  \\\n",
      "0  Associate/ Deputy Director  Health and Social ...           212209.0   \n",
      "1  Associate/ Deputy Director  Health and Social ...           212209.0   \n",
      "2                                    General Counsel           253239.0   \n",
      "3                                    General Counsel           253239.0   \n",
      "4   Deputy Commissioner, Bureau of Customer Services           225000.0   \n",
      "5   Deputy Commissioner, Bureau of Customer Services           225000.0   \n",
      "6            Assistant District Attorney Spring 2025            85000.0   \n",
      "7            Assistant District Attorney Spring 2025            85000.0   \n",
      "8           Deputy Commissioner, Preventive Services           106729.0   \n",
      "9           Deputy Commissioner, Preventive Services           106729.0   \n",
      "\n",
      "   SALARY_RANGE_TO  \n",
      "0         261089.0  \n",
      "1         261089.0  \n",
      "2         253239.0  \n",
      "3         253239.0  \n",
      "4         246000.0  \n",
      "5         246000.0  \n",
      "6         244820.0  \n",
      "7         244820.0  \n",
      "8         241434.0  \n",
      "9         241434.0  \n"
     ]
    }
   ],
   "source": [
    "# Top 10 Job Titles with Highest Salary Range\n",
    "\n",
    "sql_query_3 = '''\n",
    "SELECT Business_Title, Salary_Range_From, Salary_Range_To\n",
    "FROM BIGDATAPROJECT.PUBLIC.JOB_POSTINGS\n",
    "ORDER BY Salary_Range_To DESC\n",
    "LIMIT 10\n",
    "'''\n",
    "\n",
    "cs.execute(sql_query_3)\n",
    "data3 = cs.fetch_pandas_all()\n",
    "print(data3)\n"
   ]
  },
  {
   "cell_type": "code",
   "execution_count": 49,
   "id": "b551a5ac-69cf-4528-aa1a-edfffbdbafe7",
   "metadata": {},
   "outputs": [
    {
     "name": "stdout",
     "output_type": "stream",
     "text": [
      "  FULLTIME_OR_PARTTIME_INDICATOR  POSITION_COUNT\n",
      "0                              F            4925\n",
      "1                              P             231\n"
     ]
    }
   ],
   "source": [
    "# Count of Full-Time vs Part-Time Positions\n",
    "\n",
    "sql_query_4 = '''\n",
    "SELECT FullTime_or_PartTime_Indicator, COUNT(*) AS Position_Count\n",
    "FROM BIGDATAPROJECT.PUBLIC.JOB_POSTINGS\n",
    "GROUP BY FullTime_or_PartTime_Indicator\n",
    "'''\n",
    "\n",
    "cs.execute(sql_query_4)\n",
    "data4 = cs.fetch_pandas_all()\n",
    "print(data4)\n"
   ]
  },
  {
   "cell_type": "code",
   "execution_count": 50,
   "id": "dc56413e-9e11-49ab-b831-5e5bcf6f3e49",
   "metadata": {},
   "outputs": [
    {
     "name": "stdout",
     "output_type": "stream",
     "text": [
      "                CAREER_LEVEL  JOB_POSTINGS_COUNT\n",
      "0  Experienced (non-manager)                3824\n",
      "1                Entry-Level                 558\n",
      "2                    Manager                 556\n",
      "3                    Student                 116\n",
      "4                  Executive                 102\n"
     ]
    }
   ],
   "source": [
    "# Job Postings by Career Level\n",
    "\n",
    "sql_query_5 = '''\n",
    "SELECT Career_Level, COUNT(*) AS Job_Postings_Count\n",
    "FROM BIGDATAPROJECT.PUBLIC.JOB_POSTINGS\n",
    "GROUP BY Career_Level\n",
    "ORDER BY Job_Postings_Count DESC\n",
    "'''\n",
    "\n",
    "cs.execute(sql_query_5)\n",
    "data5 = cs.fetch_pandas_all()\n",
    "print(data5)\n"
   ]
  },
  {
   "cell_type": "code",
   "execution_count": 51,
   "id": "2d821b2c-cf21-44c0-8440-ba23e444130a",
   "metadata": {},
   "outputs": [],
   "source": [
    "# Export csv and end job\n",
    "\n",
    "sql_query = '''\n",
    "SELECT * \n",
    "FROM BIGDATAPROJECT.PUBLIC.JOB_POSTINGS\n",
    "'''\n",
    "\n",
    "cs.execute(sql_query)\n",
    "data = cs.fetch_pandas_all()\n",
    "\n",
    "# Save the DataFrame to a CSV file\n",
    "csv_file_path = 'job_postings.csv'\n",
    "data.to_csv(csv_file_path, index=False)\n",
    "\n",
    "# Close the cursor and connection\n",
    "cs.close()\n",
    "ctx.close()\n"
   ]
  },
  {
   "cell_type": "code",
   "execution_count": null,
   "id": "bc0ddadb-c9d9-41ac-b893-69f9a9685080",
   "metadata": {},
   "outputs": [],
   "source": []
  }
 ],
 "metadata": {
  "kernelspec": {
   "display_name": "Python 3 (ipykernel)",
   "language": "python",
   "name": "python3"
  },
  "language_info": {
   "codemirror_mode": {
    "name": "ipython",
    "version": 3
   },
   "file_extension": ".py",
   "mimetype": "text/x-python",
   "name": "python",
   "nbconvert_exporter": "python",
   "pygments_lexer": "ipython3",
   "version": "3.11.3"
  }
 },
 "nbformat": 4,
 "nbformat_minor": 5
}
